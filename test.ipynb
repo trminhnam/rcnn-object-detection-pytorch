{
 "cells": [
  {
   "cell_type": "code",
   "execution_count": 2,
   "metadata": {},
   "outputs": [],
   "source": [
    "import torch\n",
    "import cv2\n",
    "import numpy as np"
   ]
  },
  {
   "cell_type": "code",
   "execution_count": 4,
   "metadata": {},
   "outputs": [
    {
     "name": "stdout",
     "output_type": "stream",
     "text": [
      "['background', 'aeroplane', 'bicycle', 'bird', 'boat', 'bottle', 'bus', 'car', 'cat', 'chair', 'cow', 'diningtable', 'dog', 'horse', 'motorbike', 'person', 'pottedplant', 'sheep', 'sofa', 'train', 'tvmonitor']\n",
      "0: background\n",
      "1: aeroplane\n",
      "2: bicycle\n",
      "3: bird\n",
      "4: boat\n",
      "5: bottle\n",
      "6: bus\n",
      "7: car\n",
      "8: cat\n",
      "9: chair\n",
      "10: cow\n",
      "11: diningtable\n",
      "12: dog\n",
      "13: horse\n",
      "14: motorbike\n",
      "15: person\n",
      "16: pottedplant\n",
      "17: sheep\n",
      "18: sofa\n",
      "19: train\n",
      "20: tvmonitor\n"
     ]
    }
   ],
   "source": [
    "with open('classes.txt', 'r') as f:\n",
    "    classes = f.read().splitlines()\n",
    "print(classes)\n",
    "for i, c in enumerate(classes):\n",
    "    print(f'{i}: {c}')"
   ]
  },
  {
   "cell_type": "code",
   "execution_count": null,
   "metadata": {},
   "outputs": [],
   "source": [
    "test_img = cv2.imread(\"./sample_images/apple.jpg\")\n",
    "test_img = cv2.cvtColor(test_img, cv2.COLOR_BGR2RGB)\n",
    "test_img = cv2.resize(test_img, (224, 224))\n",
    "test_img = torch.FloatTensor(test_img).permute(2, 0, 1) / 255\n",
    "test_img = test_img.unsqueeze(0)\n",
    "with torch.no_grad():\n",
    "    test_img_pred, test_img_bbox = model(test_img.to(device))\n",
    "    test_img_pred = test_img_pred.softmax(axis=1).cpu().detach().numpy().squeeze()\n",
    "    \n",
    "print(f'Predicted class: {classes[np.argmax(test_img_pred)]} with confidence {np.max(test_img_pred):.2f}')\n",
    "\n",
    "test_img = cv2.cvtColor(test_img.squeeze().permute(1, 2, 0).cpu().numpy(), cv2.COLOR_RGB2BGR)\n",
    "cv2.imwrite(\"test_img.jpg\", test_img * 255)"
   ]
  },
  {
   "cell_type": "code",
   "execution_count": 3,
   "metadata": {},
   "outputs": [
    {
     "data": {
      "text/plain": [
       "array([2, 1], dtype=int64)"
      ]
     },
     "execution_count": 3,
     "metadata": {},
     "output_type": "execute_result"
    }
   ],
   "source": [
    "a = np.array([[1, 2, 3], [4, 8, 6]])\n",
    "np.argmax(a, axis=1)"
   ]
  },
  {
   "cell_type": "code",
   "execution_count": null,
   "metadata": {},
   "outputs": [],
   "source": []
  }
 ],
 "metadata": {
  "kernelspec": {
   "display_name": "aio",
   "language": "python",
   "name": "python3"
  },
  "language_info": {
   "codemirror_mode": {
    "name": "ipython",
    "version": 3
   },
   "file_extension": ".py",
   "mimetype": "text/x-python",
   "name": "python",
   "nbconvert_exporter": "python",
   "pygments_lexer": "ipython3",
   "version": "3.8.16"
  },
  "orig_nbformat": 4,
  "vscode": {
   "interpreter": {
    "hash": "c4b1d2403d5bedfc2b499b2d1212ae0437b5f8ebf43026ed45c1b9608ddeb20c"
   }
  }
 },
 "nbformat": 4,
 "nbformat_minor": 2
}
